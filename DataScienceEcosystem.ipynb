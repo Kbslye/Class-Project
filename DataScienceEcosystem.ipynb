{
 "cells": [
  {
   "cell_type": "markdown",
   "id": "41fa5987-552f-4dbd-8ba2-4cf0d91ec989",
   "metadata": {},
   "source": [
    "# Data Science Tools and Ecosystem"
   ]
  },
  {
   "cell_type": "markdown",
   "id": "ae238bd7-ed5b-465e-9375-8f4caacbd683",
   "metadata": {},
   "source": [
    "## In this notebook, Data Science Tools and Ecosystem are summarized."
   ]
  },
  {
   "cell_type": "markdown",
   "id": "45a3577c-0ee7-4850-ae54-c736708f0f11",
   "metadata": {},
   "source": [
    "**Objectives:**\n",
    "- List popular languages that Data Scientists use.\n",
    "- List common libraries that Data Scienctists use.\n",
    "- Give examples of simple equations that can solved in code."
   ]
  },
  {
   "cell_type": "markdown",
   "id": "d32643b9-fc4d-437e-bd26-d97cd7f93335",
   "metadata": {},
   "source": [
    "### Some of the popular languages that Data Scientists use are:\n",
    "\n",
    "1) Python\n",
    "2) R\n",
    "3) SQL"
   ]
  },
  {
   "cell_type": "markdown",
   "id": "8f6aa9c5-b8b4-4bd7-a41f-a3f5b985c524",
   "metadata": {},
   "source": [
    "### Some of the commonly used libraries used by Data Scientists include:\n",
    "\n",
    "1) ggplot\n",
    "2) Pandas\n",
    "3) Matplotlib\n",
    "4) Scikit-Learn\n",
    "5) TensorFlow"
   ]
  },
  {
   "cell_type": "markdown",
   "id": "f8471779-a3af-4ea8-9a4a-1851e2d6a879",
   "metadata": {},
   "source": [
    "| Data Science Tools |\n",
    "|--------------------|\n",
    "| JupyterLab |\n",
    "| RStudio |\n",
    "| GitHub |"
   ]
  },
  {
   "cell_type": "markdown",
   "id": "0f41db1b-613c-4a86-8284-88fb50f2313c",
   "metadata": {},
   "source": [
    "### Below are a few examples of evaluating arithmetic expressions in Python"
   ]
  },
  {
   "cell_type": "code",
   "execution_count": 1,
   "id": "0c34bf87-548e-4f85-8206-714cf45c5781",
   "metadata": {},
   "outputs": [
    {
     "data": {
      "text/plain": [
       "17"
      ]
     },
     "execution_count": 1,
     "metadata": {},
     "output_type": "execute_result"
    }
   ],
   "source": [
    "# This is a simple arithmetic expression to multiply then add integers\n",
    "(3*4)+5"
   ]
  },
  {
   "cell_type": "code",
   "execution_count": 2,
   "id": "0f635736-c77c-4917-a967-9a8c4fc79382",
   "metadata": {},
   "outputs": [
    {
     "data": {
      "text/plain": [
       "3.3333333333333335"
      ]
     },
     "execution_count": 2,
     "metadata": {},
     "output_type": "execute_result"
    }
   ],
   "source": [
    "# This will convert 200 minutes to hours by dividing by 60\n",
    "200/60"
   ]
  },
  {
   "cell_type": "markdown",
   "id": "41865d78-b94c-438b-b8fb-1521415bfd86",
   "metadata": {},
   "source": [
    "## Author\n",
    "Krisandra Slye"
   ]
  },
  {
   "cell_type": "code",
   "execution_count": null,
   "id": "8c498df1-2317-4f82-a731-22427b7eb182",
   "metadata": {},
   "outputs": [],
   "source": []
  }
 ],
 "metadata": {
  "kernelspec": {
   "display_name": "Python 3 (ipykernel)",
   "language": "python",
   "name": "python3"
  },
  "language_info": {
   "codemirror_mode": {
    "name": "ipython",
    "version": 3
   },
   "file_extension": ".py",
   "mimetype": "text/x-python",
   "name": "python",
   "nbconvert_exporter": "python",
   "pygments_lexer": "ipython3",
   "version": "3.12.8"
  }
 },
 "nbformat": 4,
 "nbformat_minor": 5
}
